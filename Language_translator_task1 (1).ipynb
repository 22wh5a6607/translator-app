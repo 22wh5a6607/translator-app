{
 "cells": [
  {
   "cell_type": "code",
   "execution_count": 2,
   "id": "1cfe0aa2",
   "metadata": {},
   "outputs": [
    {
     "name": "stdout",
     "output_type": "stream",
     "text": [
      "Hindi Conversion: नमस्ते, आप कैसे हैं?\n"
     ]
    }
   ],
   "source": [
    "from googletrans import Translator\n",
    "\n",
    "def translate_to_hindi(sentence):\n",
    "    translator = Translator()\n",
    "    translation = translator.translate(sentence, dest='hi')\n",
    "    return translation.text\n",
    "\n",
    "# Example usage\n",
    "sentence = \"Hello, how are you?\"\n",
    "translation = translate_to_hindi(sentence)\n",
    "print(\"Hindi Conversion:\", translation)"
   ]
  },
  {
   "cell_type": "code",
   "execution_count": null,
   "id": "936fe37f",
   "metadata": {},
   "outputs": [],
   "source": []
  }
 ],
 "metadata": {
  "kernelspec": {
   "display_name": "Python 3 (ipykernel)",
   "language": "python",
   "name": "python3"
  },
  "language_info": {
   "codemirror_mode": {
    "name": "ipython",
    "version": 3
   },
   "file_extension": ".py",
   "mimetype": "text/x-python",
   "name": "python",
   "nbconvert_exporter": "python",
   "pygments_lexer": "ipython3",
   "version": "3.10.0"
  }
 },
 "nbformat": 4,
 "nbformat_minor": 5
}
